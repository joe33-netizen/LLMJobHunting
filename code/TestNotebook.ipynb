{
 "cells": [
  {
   "cell_type": "code",
   "execution_count": 1,
   "id": "9dc539c3-c862-478e-b9b4-c39f7069b4b5",
   "metadata": {},
   "outputs": [
    {
     "name": "stdout",
     "output_type": "stream",
     "text": [
      "OpenAI API Key exists and begins sk-proj-\n",
      "Anthropic API Key exists and begins sk-ant-\n",
      "Connecting to https://8882ceafd3a70390bb.gradio.live...\n",
      "Loaded as API: https://8882ceafd3a70390bb.gradio.live/ ✔\n",
      "✓ Connected successfully!\n",
      "✓ Model ready at: https://8882ceafd3a70390bb.gradio.live\n",
      "Available API endpoints:\n",
      "Client.predict() Usage Info\n",
      "---------------------------\n",
      "Named API endpoints: 1\n",
      "\n",
      " - predict(prompt, system_message, max_tokens, temperature, top_p, api_name=\"/generate_text\") -> generated_text\n",
      "    Parameters:\n",
      "     - [Textbox] prompt: str (required)  \n",
      "     - [Textbox] system_message: str (not required, defaults to:   You are a helpful assistant.)  \n",
      "     - [Slider] max_tokens: float (not required, defaults to:   2000)  \n",
      "     - [Slider] temperature: float (not required, defaults to:   0.7)  \n",
      "     - [Slider] top_p: float (not required, defaults to:   0.9)  \n",
      "    Returns:\n",
      "     - [Textbox] generated_text: str \n",
      "\n",
      "None\n"
     ]
    }
   ],
   "source": [
    "# %load_ext autoreload\n",
    "# %autoreload 2\n",
    "from app import create_blocks_based_app"
   ]
  },
  {
   "cell_type": "code",
   "execution_count": 2,
   "id": "8b396e4d",
   "metadata": {},
   "outputs": [
    {
     "name": "stdout",
     "output_type": "stream",
     "text": [
      "* Running on local URL:  http://127.0.0.1:7865\n",
      "* To create a public link, set `share=True` in `launch()`.\n"
     ]
    },
    {
     "data": {
      "text/html": [
       "<div><iframe src=\"http://127.0.0.1:7865/\" width=\"100%\" height=\"500\" allow=\"autoplay; camera; microphone; clipboard-read; clipboard-write;\" frameborder=\"0\" allowfullscreen></iframe></div>"
      ],
      "text/plain": [
       "<IPython.core.display.HTML object>"
      ]
     },
     "metadata": {},
     "output_type": "display_data"
    },
    {
     "name": "stdout",
     "output_type": "stream",
     "text": [
      "Splitting resume\n",
      "Using LLM choice: qwen 2.5 32b (35gb)\n",
      "Using Qwen model via Gradio client\n",
      "Keyboard interruption in main thread... closing server.\n"
     ]
    },
    {
     "data": {
      "text/plain": []
     },
     "execution_count": 2,
     "metadata": {},
     "output_type": "execute_result"
    }
   ],
   "source": [
    "app = create_blocks_based_app()\n",
    "app.launch(share=False, debug=True)"
   ]
  },
  {
   "cell_type": "code",
   "execution_count": null,
   "id": "1d46e792",
   "metadata": {},
   "outputs": [],
   "source": []
  }
 ],
 "metadata": {
  "kernelspec": {
   "display_name": "udemy_llm",
   "language": "python",
   "name": "python3"
  },
  "language_info": {
   "codemirror_mode": {
    "name": "ipython",
    "version": 3
   },
   "file_extension": ".py",
   "mimetype": "text/x-python",
   "name": "python",
   "nbconvert_exporter": "python",
   "pygments_lexer": "ipython3",
   "version": "3.11.13"
  }
 },
 "nbformat": 4,
 "nbformat_minor": 5
}
